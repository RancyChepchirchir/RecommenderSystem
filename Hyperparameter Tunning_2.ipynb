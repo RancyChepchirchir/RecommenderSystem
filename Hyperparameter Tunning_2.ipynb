{
 "cells": [
  {
   "cell_type": "code",
   "execution_count": 1,
   "metadata": {
    "collapsed": true
   },
   "outputs": [],
   "source": [
    "#!/usr/bin/env python3\n",
    "\n",
    "import pandas as pd\n",
    "import numpy as np\n",
    "from collections import defaultdict\n",
    "import surprise\n",
    "import matplotlib.pyplot as plt\n",
    "%matplotlib inline"
   ]
  },
  {
   "cell_type": "code",
   "execution_count": 2,
   "metadata": {
    "collapsed": true
   },
   "outputs": [],
   "source": [
    "def precision_recall_at_k(predictions, k, threshold):\n",
    "    '''Return precision and recall at k metrics for each user.'''\n",
    "\n",
    "    # First map the predictions to each user.\n",
    "    user_est_true = defaultdict(list)\n",
    "    for uid, _, true_r, est, _ in predictions:\n",
    "        user_est_true[uid].append((est, true_r))\n",
    "\n",
    "    precisions = dict()\n",
    "    recalls = dict()\n",
    "    for uid, user_ratings in user_est_true.items():\n",
    "\n",
    "        # Sort user ratings by estimated value\n",
    "        user_ratings.sort(key=lambda x: x[0], reverse=True)\n",
    "\n",
    "        # Number of relevant items\n",
    "        n_rel = sum((true_r >= threshold) for (_, true_r) in user_ratings)\n",
    "\n",
    "        # Number of recommended items in top k\n",
    "        n_rec_k = sum((est >= threshold) for (est, _) in user_ratings[:k])\n",
    "        \n",
    "        # Number of relevant and recommended items in top k\n",
    "        n_rel_and_rec_k = sum(((true_r >= threshold) and (est >= threshold))\n",
    "                              for (est, true_r) in user_ratings[:k])\n",
    "\n",
    "        # Precision@K: Proportion of recommended items that are relevant\n",
    "        precisions[uid] = n_rel_and_rec_k / n_rec_k if n_rec_k != 0 else 1\n",
    "        precision = sum(prec for prec in precisions.values()) / len(precisions)\n",
    "        # Recall@K: Proportion of relevant items that are recommended\n",
    "        recalls[uid] = n_rel_and_rec_k / n_rel if n_rel != 0 else 1\n",
    "        recall = sum(rec for rec in recalls.values()) / len(recalls)\n",
    "        #f_score = (2*precision*recall)/(precision+recall)\n",
    "        \n",
    "    return precision, recall#, f_score"
   ]
  },
  {
   "cell_type": "code",
   "execution_count": 3,
   "metadata": {
    "collapsed": true
   },
   "outputs": [],
   "source": [
    "def ndcg_at_k(predictions, k):\n",
    "    dcgs = dict()\n",
    "    idcgs = dict()\n",
    "    # First map the predictions to each user.\n",
    "    user_est_true = defaultdict(list)\n",
    "    for uid, _, true_r, est, _ in predictions:\n",
    "        user_est_true[uid].append((est, true_r))\n",
    "        \n",
    "    for uid, user_ratings in user_est_true.items():\n",
    "        # Sort user ratings by estimated value\n",
    "        user_ratings.sort(key=lambda x: x[0], reverse=True)\n",
    "        \n",
    "        #estimated rank\n",
    "        rank_est = np.arange(1, len(user_ratings[:k])+1)\n",
    "        discount_est = np.log2(rank_est+1)\n",
    "        \n",
    "        #Relevance \n",
    "        rel = [np.power(2,true_r)-1 for (_, true_r) in user_ratings[:k]]\n",
    "        \n",
    "        dcgs[uid] = sum(rel/discount_est)\n",
    "        \n",
    "        # Sort user ratings by true value\n",
    "        user_ratings.sort(key=lambda x: x[1], reverse=True)\n",
    "        \n",
    "        #estimated rank\n",
    "        rank_true = np.arange(1, len(user_ratings[:k])+1)\n",
    "        discount_true = np.log2(rank_true+1)\n",
    "        \n",
    "        #Relevance \n",
    "        rel_true = [np.power(2,true_r)-1 for (_, true_r) in user_ratings[:k]]\n",
    "        \n",
    "        idcgs[uid] = sum(rel_true/discount_true)\n",
    "        \n",
    "    dcg = sum(dcgu for (_,dcgu) in dcgs.items())\n",
    "    idcg = sum(idcgu for (_,idcgu) in idcgs.items())\n",
    "    return dcg/idcg"
   ]
  },
  {
   "cell_type": "code",
   "execution_count": 4,
   "metadata": {
    "collapsed": true
   },
   "outputs": [],
   "source": [
    "train = pd.read_csv('train.csv') \n",
    "\n",
    "reader = surprise.Reader(rating_scale=(1, 10))\n",
    "data = surprise.Dataset.load_from_df(train[['User-ID', 'ISBN', 'Book-Rating']], reader)"
   ]
  },
  {
   "cell_type": "code",
   "execution_count": 5,
   "metadata": {
    "collapsed": true
   },
   "outputs": [],
   "source": [
    "# Tunning on regularization term\n",
    "regs = [0.02, 0.1, 0.5, 1, 1.5, 2]"
   ]
  },
  {
   "cell_type": "code",
   "execution_count": 6,
   "metadata": {
    "collapsed": true
   },
   "outputs": [],
   "source": [
    "test_ndcg = []\n",
    "train_ndcg = []\n",
    "test_precision = []\n",
    "train_precision = []\n",
    "test_recall = []\n",
    "train_recall = []\n",
    "train_f_score = []\n",
    "test_f_score = []\n",
    "k = 10\n",
    "threshold = 7"
   ]
  },
  {
   "cell_type": "code",
   "execution_count": 7,
   "metadata": {},
   "outputs": [
    {
     "name": "stdout",
     "output_type": "stream",
     "text": [
      "\n",
      " regularization:0.02\n",
      "\n",
      " Training Set accuracy:\n",
      "Precision: 0.8852268690227474\n",
      "Recall: 0.6544866671431825\n",
      "F-Score: 0.7525655277230119\n",
      "NDCG: 0.7897037936713237\n",
      "\n",
      " Test Set accuracy:\n",
      "Precision: 0.8345469522649526\n",
      "Recall: 0.9150148978713072\n",
      "F-Score: 0.8729240990403917\n",
      "NDCG: 0.8185833105369058\n",
      "\n",
      " regularization:0.1\n",
      "\n",
      " Training Set accuracy:\n",
      "Precision: 0.8859595039149619\n",
      "Recall: 0.6565476575910343\n",
      "F-Score: 0.7541929228936023\n",
      "NDCG: 0.7887959907757242\n",
      "\n",
      " Test Set accuracy:\n",
      "Precision: 0.8324856245750069\n",
      "Recall: 0.914643973118414\n",
      "F-Score: 0.8716094482405863\n",
      "NDCG: 0.8203848757062043\n",
      "\n",
      " regularization:0.5\n",
      "\n",
      " Training Set accuracy:\n",
      "Precision: 0.8835691371445596\n",
      "Recall: 0.6556221015555531\n",
      "F-Score: 0.7527155222317454\n",
      "NDCG: 0.7905738706197897\n",
      "\n",
      " Test Set accuracy:\n",
      "Precision: 0.8310221408073633\n",
      "Recall: 0.9176341427929464\n",
      "F-Score: 0.8721748752423543\n",
      "NDCG: 0.8205746560928922\n",
      "\n",
      " regularization:1\n",
      "\n",
      " Training Set accuracy:\n",
      "Precision: 0.881727824672092\n",
      "Recall: 0.6570973751965976\n",
      "F-Score: 0.7530172569072897\n",
      "NDCG: 0.7913932133590464\n",
      "\n",
      " Test Set accuracy:\n",
      "Precision: 0.8245910969009008\n",
      "Recall: 0.9183591229444168\n",
      "F-Score: 0.8689499738327314\n",
      "NDCG: 0.8241055297221384\n",
      "\n",
      " regularization:1.5\n",
      "\n",
      " Training Set accuracy:\n",
      "Precision: 0.8804154054937375\n",
      "Recall: 0.6588071468361331\n",
      "F-Score: 0.7536570880817979\n",
      "NDCG: 0.7931087361576992\n",
      "\n",
      " Test Set accuracy:\n",
      "Precision: 0.8252734208556537\n",
      "Recall: 0.9192972195119765\n",
      "F-Score: 0.8697467553336184\n",
      "NDCG: 0.8219875975205093\n",
      "\n",
      " regularization:2\n",
      "\n",
      " Training Set accuracy:\n",
      "Precision: 0.8786845788748181\n",
      "Recall: 0.6592427633815794\n",
      "F-Score: 0.7533060399696458\n",
      "NDCG: 0.7936172304791889\n",
      "\n",
      " Test Set accuracy:\n",
      "Precision: 0.8238090396860835\n",
      "Recall: 0.920358535867252\n",
      "F-Score: 0.8694066331616989\n",
      "NDCG: 0.8224700898652789\n"
     ]
    }
   ],
   "source": [
    "for reg in regs:\n",
    "    print ('\\n regularization:{}'.format(reg))\n",
    "    data.split(n_folds=4)\n",
    "    algo = surprise.SVD(n_factors = 10 , lr_all = 0.001, reg_all = reg)\n",
    "        \n",
    "        \n",
    "    precisions_train = []\n",
    "    recalls_train = []\n",
    "    f_scores_train = []\n",
    "    ndcgs_train = []\n",
    "\n",
    "    precisions_test = []\n",
    "    recalls_test = []\n",
    "    f_scores_test = []\n",
    "    ndcgs_test = []\n",
    "        \n",
    "    for trainset, testset in data.folds():\n",
    "\n",
    "        algo.train(trainset)\n",
    "\n",
    "        predictions_train = algo.test(trainset.build_testset())\n",
    "        precision_train, recall_train= precision_recall_at_k(predictions_train, k, threshold)\n",
    "        ndcg_train = ndcg_at_k(predictions_train, k)\n",
    "\n",
    "        precisions_train.append(precision_train)\n",
    "        recalls_train.append(recall_train)\n",
    "        f= 2*precision_train*recall_train/(precision_train+recall_train)\n",
    "        f_scores_train.append(f)\n",
    "        ndcgs_train.append(ndcg_train)\n",
    "\n",
    "\n",
    "        predictions_test = algo.test(testset)\n",
    "        precision_test, recall_test = precision_recall_at_k(predictions_test, k, threshold)\n",
    "        ndcg_test = ndcg_at_k(predictions_test, k)\n",
    "\n",
    "        precisions_test.append(precision_test)\n",
    "        recalls_test.append(recall_test)\n",
    "        f= 2*precision_test*recall_test/(precision_test+recall_test)\n",
    "        f_scores_test.append(f)\n",
    "        ndcgs_test.append(ndcg_test)    \n",
    "\n",
    "\n",
    "    print (\"\\n Training Set accuracy:\")\n",
    "    print (\"Precision: {}\".format(np.mean(precisions_train)))\n",
    "    train_precision.append(np.mean(precisions_train))\n",
    "    print (\"Recall: {}\".format(np.mean(recalls_train)))\n",
    "    train_recall.append(np.mean(recalls_train))\n",
    "    print (\"F-Score: {}\".format(np.mean(f_scores_train)))\n",
    "    train_f_score.append(np.mean(f_scores_train))\n",
    "    print (\"NDCG: {}\".format(np.mean(ndcgs_train)))\n",
    "    train_ndcg.append(np.mean(ndcgs_train))\n",
    "\n",
    "    print (\"\\n Test Set accuracy:\")\n",
    "    print (\"Precision: {}\".format(np.mean(precisions_test)))\n",
    "    test_precision.append(np.mean(precisions_test))\n",
    "    print (\"Recall: {}\".format(np.mean(recalls_test)))\n",
    "    test_recall.append(np.mean(recalls_test))\n",
    "    print (\"F-Score: {}\".format(np.mean(f_scores_test)))\n",
    "    test_f_score.append(np.mean(f_scores_test))\n",
    "    print (\"NDCG: {}\".format(np.mean(ndcgs_test)))\n",
    "    test_ndcg.append(np.mean(ndcgs_test))"
   ]
  },
  {
   "cell_type": "code",
   "execution_count": 8,
   "metadata": {},
   "outputs": [
    {
     "data": {
      "text/plain": [
       "<matplotlib.legend.Legend at 0xde71661b00>"
      ]
     },
     "execution_count": 8,
     "metadata": {},
     "output_type": "execute_result"
    },
    {
     "data": {
      "image/png": "[encoded data removed]",
      "text/plain": [
       "<matplotlib.figure.Figure at 0xde70dbb978>"
      ]
     },
     "metadata": {},
     "output_type": "display_data"
    }
   ],
   "source": [
    "fig, ax = plt.subplots(1,2,figsize=(12,4))\n",
    "\n",
    "ax[0].plot(regs, test_f_score, 'r')\n",
    "ax[0].plot(regs, train_f_score, 'g')\n",
    "ax[0].set_xlabel('Regularization terms (factors=10, learn rate=0.001)')\n",
    "ax[0].set_ylabel('F-score')\n",
    "ax[0].legend(['validation','training'])\n",
    "ax[1].plot(regs, test_ndcg, 'r')\n",
    "ax[1].plot(regs, train_ndcg, 'g')\n",
    "ax[1].set_xlabel('Regularization terms (factors=10, learn rate=0.001)')\n",
    "ax[1].set_ylabel('NDCG')\n",
    "ax[1].legend(['validation','training'])"
   ]
  }
 ],
 "metadata": {
  "kernelspec": {
   "display_name": "Python3",
   "language": "python",
   "name": "python3"
  },
  "language_info": {
   "codemirror_mode": {
    "name": "ipython",
    "version": 3
   },
   "file_extension": ".py",
   "mimetype": "text/x-python",
   "name": "python",
   "nbconvert_exporter": "python",
   "pygments_lexer": "ipython3",
   "version": "3.6.2"
  }
 },
 "nbformat": 4,
 "nbformat_minor": 2
}
